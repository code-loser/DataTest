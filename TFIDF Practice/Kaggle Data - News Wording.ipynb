{
 "cells": [
  {
   "cell_type": "code",
   "execution_count": 1,
   "metadata": {
    "collapsed": true
   },
   "outputs": [],
   "source": [
    "# Data Source from Kaggle \n",
    "# https://www.kaggle.com/socialmedianews/how-news-appears-on-social-media"
   ]
  },
  {
   "cell_type": "code",
   "execution_count": 2,
   "metadata": {
    "collapsed": true
   },
   "outputs": [],
   "source": [
    "import numpy as np\n",
    "import pandas as pd"
   ]
  },
  {
   "cell_type": "code",
   "execution_count": 3,
   "metadata": {
    "collapsed": false
   },
   "outputs": [
    {
     "name": "stdout",
     "output_type": "stream",
     "text": [
      "kaggle_news.csv\n",
      "Untitled.ipynb\n"
     ]
    }
   ],
   "source": [
    "import os\n",
    "files = [f for f in os.listdir('.') if os.path.isfile(f)]\n",
    "for f in files:\n",
    "    print(f)"
   ]
  },
  {
   "cell_type": "code",
   "execution_count": 4,
   "metadata": {
    "collapsed": true
   },
   "outputs": [],
   "source": [
    "df = pd.read_csv(\"kaggle_news.csv\")"
   ]
  },
  {
   "cell_type": "code",
   "execution_count": 5,
   "metadata": {
    "collapsed": false
   },
   "outputs": [
    {
     "data": {
      "text/plain": [
       "(1200, 6)"
      ]
     },
     "execution_count": 5,
     "metadata": {},
     "output_type": "execute_result"
    }
   ],
   "source": [
    "df.shape"
   ]
  },
  {
   "cell_type": "code",
   "execution_count": 6,
   "metadata": {
    "collapsed": false
   },
   "outputs": [
    {
     "data": {
      "text/html": [
       "<div>\n",
       "<table border=\"1\" class=\"dataframe\">\n",
       "  <thead>\n",
       "    <tr style=\"text-align: right;\">\n",
       "      <th></th>\n",
       "      <th>Unnamed: 0</th>\n",
       "      <th>Title</th>\n",
       "      <th>Date</th>\n",
       "      <th>Time</th>\n",
       "      <th>Score</th>\n",
       "      <th>Number of Comments</th>\n",
       "    </tr>\n",
       "  </thead>\n",
       "  <tbody>\n",
       "    <tr>\n",
       "      <th>0</th>\n",
       "      <td>0</td>\n",
       "      <td>British man charged after US gamer is shot by ...</td>\n",
       "      <td>2017-04-12</td>\n",
       "      <td>11:24:14</td>\n",
       "      <td>17472</td>\n",
       "      <td>3339</td>\n",
       "    </tr>\n",
       "    <tr>\n",
       "      <th>1</th>\n",
       "      <td>1</td>\n",
       "      <td>Ukraine ledger reveals $1.2 million in off-the...</td>\n",
       "      <td>2017-04-12</td>\n",
       "      <td>13:26:48</td>\n",
       "      <td>4798</td>\n",
       "      <td>415</td>\n",
       "    </tr>\n",
       "    <tr>\n",
       "      <th>2</th>\n",
       "      <td>2</td>\n",
       "      <td>United passenger threatened with handcuffs to ...</td>\n",
       "      <td>2017-04-12</td>\n",
       "      <td>02:29:44</td>\n",
       "      <td>31802</td>\n",
       "      <td>3243</td>\n",
       "    </tr>\n",
       "    <tr>\n",
       "      <th>3</th>\n",
       "      <td>3</td>\n",
       "      <td>Oregon lawmakers vote to shield marijuana user...</td>\n",
       "      <td>2017-04-12</td>\n",
       "      <td>09:10:29</td>\n",
       "      <td>1988</td>\n",
       "      <td>102</td>\n",
       "    </tr>\n",
       "    <tr>\n",
       "      <th>4</th>\n",
       "      <td>4</td>\n",
       "      <td>DeVos Undoes Obama Student Loan Protections</td>\n",
       "      <td>2017-04-12</td>\n",
       "      <td>00:42:00</td>\n",
       "      <td>26072</td>\n",
       "      <td>4459</td>\n",
       "    </tr>\n",
       "  </tbody>\n",
       "</table>\n",
       "</div>"
      ],
      "text/plain": [
       "   Unnamed: 0                                              Title        Date  \\\n",
       "0           0  British man charged after US gamer is shot by ...  2017-04-12   \n",
       "1           1  Ukraine ledger reveals $1.2 million in off-the...  2017-04-12   \n",
       "2           2  United passenger threatened with handcuffs to ...  2017-04-12   \n",
       "3           3  Oregon lawmakers vote to shield marijuana user...  2017-04-12   \n",
       "4           4        DeVos Undoes Obama Student Loan Protections  2017-04-12   \n",
       "\n",
       "       Time  Score  Number of Comments  \n",
       "0  11:24:14  17472                3339  \n",
       "1  13:26:48   4798                 415  \n",
       "2  02:29:44  31802                3243  \n",
       "3  09:10:29   1988                 102  \n",
       "4  00:42:00  26072                4459  "
      ]
     },
     "execution_count": 6,
     "metadata": {},
     "output_type": "execute_result"
    }
   ],
   "source": [
    "df.head()"
   ]
  },
  {
   "cell_type": "code",
   "execution_count": 7,
   "metadata": {
    "collapsed": true
   },
   "outputs": [],
   "source": [
    "unique_title = df.Title.value_counts().to_frame()\n",
    "unique_title = unique_title.reset_index()"
   ]
  },
  {
   "cell_type": "code",
   "execution_count": 8,
   "metadata": {
    "collapsed": false
   },
   "outputs": [
    {
     "data": {
      "text/html": [
       "<div>\n",
       "<table border=\"1\" class=\"dataframe\">\n",
       "  <thead>\n",
       "    <tr style=\"text-align: right;\">\n",
       "      <th></th>\n",
       "      <th>title</th>\n",
       "      <th>value</th>\n",
       "    </tr>\n",
       "  </thead>\n",
       "  <tbody>\n",
       "    <tr>\n",
       "      <th>0</th>\n",
       "      <td>US intercepts 2 Russian bombers off Alaskas coast</td>\n",
       "      <td>5</td>\n",
       "    </tr>\n",
       "    <tr>\n",
       "      <th>1</th>\n",
       "      <td>Detroit doctor charged with female genital mut...</td>\n",
       "      <td>4</td>\n",
       "    </tr>\n",
       "    <tr>\n",
       "      <th>2</th>\n",
       "      <td>United CEO says no one will be fired for dragg...</td>\n",
       "      <td>4</td>\n",
       "    </tr>\n",
       "    <tr>\n",
       "      <th>3</th>\n",
       "      <td>Smoke pot in Oregon? Your name now protected f...</td>\n",
       "      <td>4</td>\n",
       "    </tr>\n",
       "    <tr>\n",
       "      <th>4</th>\n",
       "      <td>Indian firms Zika virus vaccine 100% efficient...</td>\n",
       "      <td>4</td>\n",
       "    </tr>\n",
       "  </tbody>\n",
       "</table>\n",
       "</div>"
      ],
      "text/plain": [
       "                                               title  value\n",
       "0  US intercepts 2 Russian bombers off Alaskas coast      5\n",
       "1  Detroit doctor charged with female genital mut...      4\n",
       "2  United CEO says no one will be fired for dragg...      4\n",
       "3  Smoke pot in Oregon? Your name now protected f...      4\n",
       "4  Indian firms Zika virus vaccine 100% efficient...      4"
      ]
     },
     "execution_count": 8,
     "metadata": {},
     "output_type": "execute_result"
    }
   ],
   "source": [
    "unique_title.columns =['title','value']\n",
    "unique_title.head()"
   ]
  },
  {
   "cell_type": "code",
   "execution_count": 9,
   "metadata": {
    "collapsed": false
   },
   "outputs": [
    {
     "data": {
      "text/plain": [
       "0    US intercepts 2 Russian bombers off Alaskas coast\n",
       "1    Detroit doctor charged with female genital mut...\n",
       "2    United CEO says no one will be fired for dragg...\n",
       "3    Smoke pot in Oregon? Your name now protected f...\n",
       "4    Indian firms Zika virus vaccine 100% efficient...\n",
       "Name: title, dtype: object"
      ]
     },
     "execution_count": 9,
     "metadata": {},
     "output_type": "execute_result"
    }
   ],
   "source": [
    "title = unique_title.title\n",
    "title.head(5)"
   ]
  },
  {
   "cell_type": "code",
   "execution_count": 10,
   "metadata": {
    "collapsed": true
   },
   "outputs": [],
   "source": [
    "# Import Lib for Text Cleaning\n",
    "\n",
    "import re\n",
    "from nltk.stem import PorterStemmer, SnowballStemmer\n",
    "stemmer = SnowballStemmer('english')"
   ]
  },
  {
   "cell_type": "code",
   "execution_count": 11,
   "metadata": {
    "collapsed": true
   },
   "outputs": [],
   "source": [
    "# Clean Text function\n",
    "\n",
    "def clean_text(text, stemming=False):\n",
    "    text_clean = re.sub('\\[', '', text)\n",
    "    text_clean = re.sub('\\]', '', text_clean)\n",
    "    if stemming:\n",
    "        text_clean = ' '.join([stemmer.stem(t) for t in text_clean.split()])\n",
    "    else:\n",
    "        text_clean = ' '.join(text_clean.split())\n",
    "    return text_clean.lower()"
   ]
  },
  {
   "cell_type": "code",
   "execution_count": 12,
   "metadata": {
    "collapsed": true
   },
   "outputs": [],
   "source": [
    "title.fillna('', inplace=True)\n",
    "title_clean = title.map(lambda x: clean_text(x, stemming=True))"
   ]
  },
  {
   "cell_type": "code",
   "execution_count": 13,
   "metadata": {
    "collapsed": false
   },
   "outputs": [
    {
     "data": {
      "text/plain": [
       "0       us intercept 2 russian bomber off alaska coast\n",
       "1    detroit doctor charg with femal genit mutil or...\n",
       "2      unit ceo say no one will be fire for drag incid\n",
       "3    smoke pot in oregon? your name now protect fro...\n",
       "4    indian firm zika virus vaccin 100% effici in a...\n",
       "Name: title, dtype: object"
      ]
     },
     "execution_count": 13,
     "metadata": {},
     "output_type": "execute_result"
    }
   ],
   "source": [
    "title_clean.head(5)"
   ]
  },
  {
   "cell_type": "code",
   "execution_count": 14,
   "metadata": {
    "collapsed": true
   },
   "outputs": [],
   "source": [
    "# Import TFIDF\n",
    "\n",
    "from sklearn.feature_extraction.text import TfidfVectorizer\n",
    "tfidf_model = TfidfVectorizer(lowercase=True, stop_words='english', ngram_range=(1,1))"
   ]
  },
  {
   "cell_type": "code",
   "execution_count": 15,
   "metadata": {
    "collapsed": false
   },
   "outputs": [
    {
     "data": {
      "text/plain": [
       "<741x2659 sparse matrix of type '<class 'numpy.float64'>'\n",
       "\twith 6106 stored elements in Compressed Sparse Row format>"
      ]
     },
     "execution_count": 15,
     "metadata": {},
     "output_type": "execute_result"
    }
   ],
   "source": [
    "title_tfidf = tfidf_model.fit_transform(title_clean)\n",
    "title_tfidf"
   ]
  },
  {
   "cell_type": "code",
   "execution_count": 16,
   "metadata": {
    "collapsed": true
   },
   "outputs": [],
   "source": [
    "# Import KMeans\n",
    "\n",
    "from sklearn.cluster import KMeans\n",
    "cluster = KMeans(n_clusters=7)"
   ]
  },
  {
   "cell_type": "code",
   "execution_count": 17,
   "metadata": {
    "collapsed": true
   },
   "outputs": [],
   "source": [
    "cluster_predict = cluster.fit_predict(title_tfidf)\n",
    "unique_title['cluster'] = cluster_predict"
   ]
  },
  {
   "cell_type": "code",
   "execution_count": 19,
   "metadata": {
    "collapsed": false,
    "scrolled": true
   },
   "outputs": [
    {
     "data": {
      "text/html": [
       "<div>\n",
       "<table border=\"1\" class=\"dataframe\">\n",
       "  <thead>\n",
       "    <tr style=\"text-align: right;\">\n",
       "      <th></th>\n",
       "      <th>title</th>\n",
       "      <th>value</th>\n",
       "      <th>cluster</th>\n",
       "    </tr>\n",
       "  </thead>\n",
       "  <tbody>\n",
       "    <tr>\n",
       "      <th>0</th>\n",
       "      <td>US intercepts 2 Russian bombers off Alaskas coast</td>\n",
       "      <td>5</td>\n",
       "      <td>2</td>\n",
       "    </tr>\n",
       "    <tr>\n",
       "      <th>1</th>\n",
       "      <td>Detroit doctor charged with female genital mut...</td>\n",
       "      <td>4</td>\n",
       "      <td>6</td>\n",
       "    </tr>\n",
       "    <tr>\n",
       "      <th>2</th>\n",
       "      <td>United CEO says no one will be fired for dragg...</td>\n",
       "      <td>4</td>\n",
       "      <td>3</td>\n",
       "    </tr>\n",
       "    <tr>\n",
       "      <th>3</th>\n",
       "      <td>Smoke pot in Oregon? Your name now protected f...</td>\n",
       "      <td>4</td>\n",
       "      <td>2</td>\n",
       "    </tr>\n",
       "    <tr>\n",
       "      <th>4</th>\n",
       "      <td>Indian firms Zika virus vaccine 100% efficient...</td>\n",
       "      <td>4</td>\n",
       "      <td>2</td>\n",
       "    </tr>\n",
       "  </tbody>\n",
       "</table>\n",
       "</div>"
      ],
      "text/plain": [
       "                                               title  value  cluster\n",
       "0  US intercepts 2 Russian bombers off Alaskas coast      5        2\n",
       "1  Detroit doctor charged with female genital mut...      4        6\n",
       "2  United CEO says no one will be fired for dragg...      4        3\n",
       "3  Smoke pot in Oregon? Your name now protected f...      4        2\n",
       "4  Indian firms Zika virus vaccine 100% efficient...      4        2"
      ]
     },
     "execution_count": 19,
     "metadata": {},
     "output_type": "execute_result"
    }
   ],
   "source": [
    "unique_title.head()"
   ]
  },
  {
   "cell_type": "code",
   "execution_count": 24,
   "metadata": {
    "collapsed": false
   },
   "outputs": [
    {
     "data": {
      "text/plain": [
       "2    450\n",
       "1    81 \n",
       "3    64 \n",
       "4    49 \n",
       "0    42 \n",
       "5    38 \n",
       "6    17 \n",
       "Name: cluster, dtype: int64"
      ]
     },
     "execution_count": 24,
     "metadata": {},
     "output_type": "execute_result"
    }
   ],
   "source": [
    "unique_title.cluster.value_counts()"
   ]
  },
  {
   "cell_type": "code",
   "execution_count": 20,
   "metadata": {
    "collapsed": true
   },
   "outputs": [],
   "source": [
    "# Show all text in columns\n",
    "\n",
    "pd.set_option('display.max_colwidth', -1)"
   ]
  },
  {
   "cell_type": "code",
   "execution_count": 25,
   "metadata": {
    "collapsed": false
   },
   "outputs": [
    {
     "data": {
      "text/html": [
       "<div>\n",
       "<table border=\"1\" class=\"dataframe\">\n",
       "  <thead>\n",
       "    <tr style=\"text-align: right;\">\n",
       "      <th></th>\n",
       "      <th>title</th>\n",
       "      <th>value</th>\n",
       "      <th>cluster</th>\n",
       "    </tr>\n",
       "  </thead>\n",
       "  <tbody>\n",
       "    <tr>\n",
       "      <th>1</th>\n",
       "      <td>Detroit doctor charged with female genital mutilation ordered to jail</td>\n",
       "      <td>4</td>\n",
       "      <td>6</td>\n",
       "    </tr>\n",
       "    <tr>\n",
       "      <th>176</th>\n",
       "      <td>Army charges retired major general with rape against a minor in the 1980s</td>\n",
       "      <td>2</td>\n",
       "      <td>6</td>\n",
       "    </tr>\n",
       "    <tr>\n",
       "      <th>198</th>\n",
       "      <td>In rare fumble, Goldman stuns Wall Street with weak trading</td>\n",
       "      <td>2</td>\n",
       "      <td>6</td>\n",
       "    </tr>\n",
       "    <tr>\n",
       "      <th>208</th>\n",
       "      <td>Veterans with PTSD are suing the Army to have their discharges upgraded</td>\n",
       "      <td>2</td>\n",
       "      <td>6</td>\n",
       "    </tr>\n",
       "    <tr>\n",
       "      <th>243</th>\n",
       "      <td>Federal judge orders Fort Collins to free the nipple  from city regulation</td>\n",
       "      <td>2</td>\n",
       "      <td>6</td>\n",
       "    </tr>\n",
       "    <tr>\n",
       "      <th>301</th>\n",
       "      <td>U.S. says Iran complies with nuke deal but orders review on lifting sanctions</td>\n",
       "      <td>2</td>\n",
       "      <td>6</td>\n",
       "    </tr>\n",
       "    <tr>\n",
       "      <th>338</th>\n",
       "      <td>Gag order keeps Oregon from telling public about cancer-causing pollutant</td>\n",
       "      <td>1</td>\n",
       "      <td>6</td>\n",
       "    </tr>\n",
       "    <tr>\n",
       "      <th>357</th>\n",
       "      <td>Kim Jong-un orders evacuation of Pyongyang</td>\n",
       "      <td>1</td>\n",
       "      <td>6</td>\n",
       "    </tr>\n",
       "    <tr>\n",
       "      <th>385</th>\n",
       "      <td>US Army base on lockdown, sixty four soldiers busted in cocaine drug ring</td>\n",
       "      <td>1</td>\n",
       "      <td>6</td>\n",
       "    </tr>\n",
       "    <tr>\n",
       "      <th>400</th>\n",
       "      <td>Naked woman slugs Highland Park officer who tried to remove her from Oak Lawn street</td>\n",
       "      <td>1</td>\n",
       "      <td>6</td>\n",
       "    </tr>\n",
       "    <tr>\n",
       "      <th>497</th>\n",
       "      <td>North Korean leader Kim Jong-un recently ordered the deportation of nearly 600,000 Pyongyang residents to the suburbs</td>\n",
       "      <td>1</td>\n",
       "      <td>6</td>\n",
       "    </tr>\n",
       "    <tr>\n",
       "      <th>505</th>\n",
       "      <td>Navy ordered to pay compensation for causing sailors smoking habit</td>\n",
       "      <td>1</td>\n",
       "      <td>6</td>\n",
       "    </tr>\n",
       "    <tr>\n",
       "      <th>511</th>\n",
       "      <td>Riots, looting in Venezuela; opposition leaders arrested</td>\n",
       "      <td>1</td>\n",
       "      <td>6</td>\n",
       "    </tr>\n",
       "    <tr>\n",
       "      <th>587</th>\n",
       "      <td>Venezuelas Bread Wars: With Food Scarce, Government Accuses Bakers Of Hoarding</td>\n",
       "      <td>1</td>\n",
       "      <td>6</td>\n",
       "    </tr>\n",
       "    <tr>\n",
       "      <th>636</th>\n",
       "      <td>Maduro orders Venezuela army into streets</td>\n",
       "      <td>1</td>\n",
       "      <td>6</td>\n",
       "    </tr>\n",
       "    <tr>\n",
       "      <th>706</th>\n",
       "      <td>Ugandan army calls off search for Joseph Kony, says Lords Resistance Army no longer a threat</td>\n",
       "      <td>1</td>\n",
       "      <td>6</td>\n",
       "    </tr>\n",
       "    <tr>\n",
       "      <th>735</th>\n",
       "      <td>Venezuela Staves Off Default, but Low Oil Prices Pose a Threat</td>\n",
       "      <td>1</td>\n",
       "      <td>6</td>\n",
       "    </tr>\n",
       "  </tbody>\n",
       "</table>\n",
       "</div>"
      ],
      "text/plain": [
       "                                                                                                                     title  \\\n",
       "1    Detroit doctor charged with female genital mutilation ordered to jail                                                   \n",
       "176  Army charges retired major general with rape against a minor in the 1980s                                               \n",
       "198  In rare fumble, Goldman stuns Wall Street with weak trading                                                             \n",
       "208  Veterans with PTSD are suing the Army to have their discharges upgraded                                                 \n",
       "243  Federal judge orders Fort Collins to free the nipple  from city regulation                                              \n",
       "301  U.S. says Iran complies with nuke deal but orders review on lifting sanctions                                           \n",
       "338  Gag order keeps Oregon from telling public about cancer-causing pollutant                                               \n",
       "357  Kim Jong-un orders evacuation of Pyongyang                                                                              \n",
       "385  US Army base on lockdown, sixty four soldiers busted in cocaine drug ring                                               \n",
       "400  Naked woman slugs Highland Park officer who tried to remove her from Oak Lawn street                                    \n",
       "497  North Korean leader Kim Jong-un recently ordered the deportation of nearly 600,000 Pyongyang residents to the suburbs   \n",
       "505  Navy ordered to pay compensation for causing sailors smoking habit                                                      \n",
       "511  Riots, looting in Venezuela; opposition leaders arrested                                                                \n",
       "587  Venezuelas Bread Wars: With Food Scarce, Government Accuses Bakers Of Hoarding                                          \n",
       "636  Maduro orders Venezuela army into streets                                                                               \n",
       "706  Ugandan army calls off search for Joseph Kony, says Lords Resistance Army no longer a threat                            \n",
       "735  Venezuela Staves Off Default, but Low Oil Prices Pose a Threat                                                          \n",
       "\n",
       "     value  cluster  \n",
       "1    4      6        \n",
       "176  2      6        \n",
       "198  2      6        \n",
       "208  2      6        \n",
       "243  2      6        \n",
       "301  2      6        \n",
       "338  1      6        \n",
       "357  1      6        \n",
       "385  1      6        \n",
       "400  1      6        \n",
       "497  1      6        \n",
       "505  1      6        \n",
       "511  1      6        \n",
       "587  1      6        \n",
       "636  1      6        \n",
       "706  1      6        \n",
       "735  1      6        "
      ]
     },
     "execution_count": 25,
     "metadata": {},
     "output_type": "execute_result"
    }
   ],
   "source": [
    "unique_title[unique_title['cluster']==6]"
   ]
  },
  {
   "cell_type": "code",
   "execution_count": null,
   "metadata": {
    "collapsed": true
   },
   "outputs": [],
   "source": []
  }
 ],
 "metadata": {
  "kernelspec": {
   "display_name": "Python 3",
   "language": "python",
   "name": "python3"
  },
  "language_info": {
   "codemirror_mode": {
    "name": "ipython",
    "version": 3
   },
   "file_extension": ".py",
   "mimetype": "text/x-python",
   "name": "python",
   "nbconvert_exporter": "python",
   "pygments_lexer": "ipython3",
   "version": "3.5.1"
  }
 },
 "nbformat": 4,
 "nbformat_minor": 0
}
